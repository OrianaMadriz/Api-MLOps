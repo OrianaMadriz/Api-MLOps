{
 "cells": [
  {
   "attachments": {},
   "cell_type": "markdown",
   "metadata": {},
   "source": [
    "EDA"
   ]
  },
  {
   "cell_type": "code",
   "execution_count": 4,
   "metadata": {},
   "outputs": [],
   "source": [
    "#Importamos las librerias a utilizar\n",
    "\n",
    "import pandas as pd\n",
    "import json\n",
    "import re\n",
    "import string\n",
    "import nltk\n",
    "from nltk.corpus import stopwords\n",
    "from nltk.stem import WordNetLemmatizer\n",
    "from nltk.tokenize import word_tokenize\n",
    "import string"
   ]
  },
  {
   "cell_type": "code",
   "execution_count": 5,
   "metadata": {},
   "outputs": [
    {
     "name": "stderr",
     "output_type": "stream",
     "text": [
      "C:\\Users\\Usuario\\AppData\\Local\\Temp\\ipykernel_18732\\3953064996.py:3: DtypeWarning: Columns (10) have mixed types. Specify dtype option on import or set low_memory=False.\n",
      "  data=pd.read_csv(\"Datasets\\movies_dataset.csv\")\n"
     ]
    }
   ],
   "source": [
    "#Cargamos el dataset a utilizar\n",
    "\n",
    "data=pd.read_csv(\"Datasets\\movies_dataset.csv\")"
   ]
  },
  {
   "cell_type": "code",
   "execution_count": 6,
   "metadata": {},
   "outputs": [
    {
     "data": {
      "text/html": [
       "<div>\n",
       "<style scoped>\n",
       "    .dataframe tbody tr th:only-of-type {\n",
       "        vertical-align: middle;\n",
       "    }\n",
       "\n",
       "    .dataframe tbody tr th {\n",
       "        vertical-align: top;\n",
       "    }\n",
       "\n",
       "    .dataframe thead th {\n",
       "        text-align: right;\n",
       "    }\n",
       "</style>\n",
       "<table border=\"1\" class=\"dataframe\">\n",
       "  <thead>\n",
       "    <tr style=\"text-align: right;\">\n",
       "      <th></th>\n",
       "      <th>adult</th>\n",
       "      <th>belongs_to_collection</th>\n",
       "      <th>budget</th>\n",
       "      <th>genres</th>\n",
       "      <th>homepage</th>\n",
       "      <th>id</th>\n",
       "      <th>imdb_id</th>\n",
       "      <th>original_language</th>\n",
       "      <th>original_title</th>\n",
       "      <th>overview</th>\n",
       "      <th>...</th>\n",
       "      <th>release_date</th>\n",
       "      <th>revenue</th>\n",
       "      <th>runtime</th>\n",
       "      <th>spoken_languages</th>\n",
       "      <th>status</th>\n",
       "      <th>tagline</th>\n",
       "      <th>title</th>\n",
       "      <th>video</th>\n",
       "      <th>vote_average</th>\n",
       "      <th>vote_count</th>\n",
       "    </tr>\n",
       "  </thead>\n",
       "  <tbody>\n",
       "    <tr>\n",
       "      <th>0</th>\n",
       "      <td>False</td>\n",
       "      <td>{'id': 10194, 'name': 'Toy Story Collection', ...</td>\n",
       "      <td>30000000</td>\n",
       "      <td>[{'id': 16, 'name': 'Animation'}, {'id': 35, '...</td>\n",
       "      <td>http://toystory.disney.com/toy-story</td>\n",
       "      <td>862</td>\n",
       "      <td>tt0114709</td>\n",
       "      <td>en</td>\n",
       "      <td>Toy Story</td>\n",
       "      <td>Led by Woody, Andy's toys live happily in his ...</td>\n",
       "      <td>...</td>\n",
       "      <td>1995-10-30</td>\n",
       "      <td>373554033.0</td>\n",
       "      <td>81.0</td>\n",
       "      <td>[{'iso_639_1': 'en', 'name': 'English'}]</td>\n",
       "      <td>Released</td>\n",
       "      <td>NaN</td>\n",
       "      <td>Toy Story</td>\n",
       "      <td>False</td>\n",
       "      <td>7.7</td>\n",
       "      <td>5415.0</td>\n",
       "    </tr>\n",
       "    <tr>\n",
       "      <th>1</th>\n",
       "      <td>False</td>\n",
       "      <td>NaN</td>\n",
       "      <td>65000000</td>\n",
       "      <td>[{'id': 12, 'name': 'Adventure'}, {'id': 14, '...</td>\n",
       "      <td>NaN</td>\n",
       "      <td>8844</td>\n",
       "      <td>tt0113497</td>\n",
       "      <td>en</td>\n",
       "      <td>Jumanji</td>\n",
       "      <td>When siblings Judy and Peter discover an encha...</td>\n",
       "      <td>...</td>\n",
       "      <td>1995-12-15</td>\n",
       "      <td>262797249.0</td>\n",
       "      <td>104.0</td>\n",
       "      <td>[{'iso_639_1': 'en', 'name': 'English'}, {'iso...</td>\n",
       "      <td>Released</td>\n",
       "      <td>Roll the dice and unleash the excitement!</td>\n",
       "      <td>Jumanji</td>\n",
       "      <td>False</td>\n",
       "      <td>6.9</td>\n",
       "      <td>2413.0</td>\n",
       "    </tr>\n",
       "    <tr>\n",
       "      <th>2</th>\n",
       "      <td>False</td>\n",
       "      <td>{'id': 119050, 'name': 'Grumpy Old Men Collect...</td>\n",
       "      <td>0</td>\n",
       "      <td>[{'id': 10749, 'name': 'Romance'}, {'id': 35, ...</td>\n",
       "      <td>NaN</td>\n",
       "      <td>15602</td>\n",
       "      <td>tt0113228</td>\n",
       "      <td>en</td>\n",
       "      <td>Grumpier Old Men</td>\n",
       "      <td>A family wedding reignites the ancient feud be...</td>\n",
       "      <td>...</td>\n",
       "      <td>1995-12-22</td>\n",
       "      <td>0.0</td>\n",
       "      <td>101.0</td>\n",
       "      <td>[{'iso_639_1': 'en', 'name': 'English'}]</td>\n",
       "      <td>Released</td>\n",
       "      <td>Still Yelling. Still Fighting. Still Ready for...</td>\n",
       "      <td>Grumpier Old Men</td>\n",
       "      <td>False</td>\n",
       "      <td>6.5</td>\n",
       "      <td>92.0</td>\n",
       "    </tr>\n",
       "  </tbody>\n",
       "</table>\n",
       "<p>3 rows × 24 columns</p>\n",
       "</div>"
      ],
      "text/plain": [
       "   adult                              belongs_to_collection    budget   \n",
       "0  False  {'id': 10194, 'name': 'Toy Story Collection', ...  30000000  \\\n",
       "1  False                                                NaN  65000000   \n",
       "2  False  {'id': 119050, 'name': 'Grumpy Old Men Collect...         0   \n",
       "\n",
       "                                              genres   \n",
       "0  [{'id': 16, 'name': 'Animation'}, {'id': 35, '...  \\\n",
       "1  [{'id': 12, 'name': 'Adventure'}, {'id': 14, '...   \n",
       "2  [{'id': 10749, 'name': 'Romance'}, {'id': 35, ...   \n",
       "\n",
       "                               homepage     id    imdb_id original_language   \n",
       "0  http://toystory.disney.com/toy-story    862  tt0114709                en  \\\n",
       "1                                   NaN   8844  tt0113497                en   \n",
       "2                                   NaN  15602  tt0113228                en   \n",
       "\n",
       "     original_title                                           overview  ...   \n",
       "0         Toy Story  Led by Woody, Andy's toys live happily in his ...  ...  \\\n",
       "1           Jumanji  When siblings Judy and Peter discover an encha...  ...   \n",
       "2  Grumpier Old Men  A family wedding reignites the ancient feud be...  ...   \n",
       "\n",
       "  release_date      revenue runtime   \n",
       "0   1995-10-30  373554033.0    81.0  \\\n",
       "1   1995-12-15  262797249.0   104.0   \n",
       "2   1995-12-22          0.0   101.0   \n",
       "\n",
       "                                    spoken_languages    status   \n",
       "0           [{'iso_639_1': 'en', 'name': 'English'}]  Released  \\\n",
       "1  [{'iso_639_1': 'en', 'name': 'English'}, {'iso...  Released   \n",
       "2           [{'iso_639_1': 'en', 'name': 'English'}]  Released   \n",
       "\n",
       "                                             tagline             title  video   \n",
       "0                                                NaN         Toy Story  False  \\\n",
       "1          Roll the dice and unleash the excitement!           Jumanji  False   \n",
       "2  Still Yelling. Still Fighting. Still Ready for...  Grumpier Old Men  False   \n",
       "\n",
       "  vote_average vote_count  \n",
       "0          7.7     5415.0  \n",
       "1          6.9     2413.0  \n",
       "2          6.5       92.0  \n",
       "\n",
       "[3 rows x 24 columns]"
      ]
     },
     "execution_count": 6,
     "metadata": {},
     "output_type": "execute_result"
    }
   ],
   "source": [
    "#Visualizamos el dataset\n",
    "\n",
    "data.head(3)"
   ]
  },
  {
   "cell_type": "code",
   "execution_count": 7,
   "metadata": {},
   "outputs": [
    {
     "data": {
      "text/plain": [
       "Index(['adult', 'belongs_to_collection', 'budget', 'genres', 'homepage', 'id',\n",
       "       'imdb_id', 'original_language', 'original_title', 'overview',\n",
       "       'popularity', 'poster_path', 'production_companies',\n",
       "       'production_countries', 'release_date', 'revenue', 'runtime',\n",
       "       'spoken_languages', 'status', 'tagline', 'title', 'video',\n",
       "       'vote_average', 'vote_count'],\n",
       "      dtype='object')"
      ]
     },
     "execution_count": 7,
     "metadata": {},
     "output_type": "execute_result"
    }
   ],
   "source": [
    "#Visualizamos las columnas que contiene el dataset\n",
    "\n",
    "data.columns"
   ]
  },
  {
   "cell_type": "code",
   "execution_count": 8,
   "metadata": {},
   "outputs": [],
   "source": [
    "#Seleccionamos las columnas que nos interesan para hacer las operaciones planteadas, en este caso un modelo de recomendacion y dejamos el dataset con esas columnas nada mas\n",
    "\n",
    "columnas_deseadas = ['id',\"title\",'genres', 'overview', \"release_date\", \"spoken_languages\",\"popularity\"]\n",
    "data = data[columnas_deseadas]"
   ]
  },
  {
   "cell_type": "code",
   "execution_count": 9,
   "metadata": {},
   "outputs": [
    {
     "data": {
      "text/plain": [
       "30"
      ]
     },
     "execution_count": 9,
     "metadata": {},
     "output_type": "execute_result"
    }
   ],
   "source": [
    "#Verificamos cuantos duplicados tenemos con el id de cada pelicula\n",
    "\n",
    "data['id'].duplicated().sum()"
   ]
  },
  {
   "cell_type": "code",
   "execution_count": 10,
   "metadata": {},
   "outputs": [],
   "source": [
    "#Eliminamos los duplicados en la columna \"id\"\n",
    "\n",
    "data.drop_duplicates(subset='id', inplace=True)"
   ]
  },
  {
   "cell_type": "code",
   "execution_count": 11,
   "metadata": {},
   "outputs": [
    {
     "data": {
      "text/plain": [
       "0"
      ]
     },
     "execution_count": 11,
     "metadata": {},
     "output_type": "execute_result"
    }
   ],
   "source": [
    "#Consultamos cuntos nulos tenemos en la columna \"genres\"\n",
    "\n",
    "data[\"genres\"].isnull().sum()"
   ]
  },
  {
   "cell_type": "code",
   "execution_count": 12,
   "metadata": {},
   "outputs": [
    {
     "data": {
      "text/plain": [
       "6"
      ]
     },
     "execution_count": 12,
     "metadata": {},
     "output_type": "execute_result"
    }
   ],
   "source": [
    "#Consultamos cuntos nulos tenemos en la columna \"spoken_languages\"\n",
    "\n",
    "data[\"spoken_languages\"].isnull().sum()"
   ]
  },
  {
   "cell_type": "code",
   "execution_count": 13,
   "metadata": {},
   "outputs": [
    {
     "data": {
      "text/plain": [
       "87"
      ]
     },
     "execution_count": 13,
     "metadata": {},
     "output_type": "execute_result"
    }
   ],
   "source": [
    "#Consultamos cuntos nulos tenemos en la columna \"release_date\"\n",
    "\n",
    "data[\"release_date\"].isnull().sum()"
   ]
  },
  {
   "cell_type": "code",
   "execution_count": 14,
   "metadata": {},
   "outputs": [
    {
     "data": {
      "text/plain": [
       "5"
      ]
     },
     "execution_count": 14,
     "metadata": {},
     "output_type": "execute_result"
    }
   ],
   "source": [
    "#Consultamos cuntos nulos tenemos en la columna \"popularity\"\n",
    "\n",
    "data[\"popularity\"].isnull().sum()"
   ]
  },
  {
   "cell_type": "code",
   "execution_count": 15,
   "metadata": {},
   "outputs": [
    {
     "data": {
      "text/plain": [
       "954"
      ]
     },
     "execution_count": 15,
     "metadata": {},
     "output_type": "execute_result"
    }
   ],
   "source": [
    "#Consultamos cuntos nulos tenemos en la columna \"overview\"\n",
    "\n",
    "data[\"overview\"].isnull().sum()"
   ]
  },
  {
   "cell_type": "code",
   "execution_count": 16,
   "metadata": {},
   "outputs": [],
   "source": [
    "#Considerando que la fecha de lanzamiento es importante, eliminamos las filas donde 'release_date' sea nulo\n",
    "\n",
    "data = data.dropna(subset=['release_date']).reset_index(drop=True)"
   ]
  },
  {
   "cell_type": "code",
   "execution_count": 17,
   "metadata": {},
   "outputs": [],
   "source": [
    "#Creamos una nueva columna con el año de lanzamiento de cada pelicula\n",
    "\n",
    "data[\"release_year\"] = pd.to_datetime(data[\"release_date\"], errors=\"coerce\").dt.year"
   ]
  },
  {
   "cell_type": "code",
   "execution_count": 18,
   "metadata": {},
   "outputs": [
    {
     "data": {
      "text/plain": [
       "3"
      ]
     },
     "execution_count": 18,
     "metadata": {},
     "output_type": "execute_result"
    }
   ],
   "source": [
    "#Consultamos cuntos nulos tenemos en la columna \"release_year\"\n",
    "\n",
    "data[\"release_year\"].isnull().sum()"
   ]
  },
  {
   "cell_type": "code",
   "execution_count": 19,
   "metadata": {},
   "outputs": [],
   "source": [
    "#Eliminamos las filas donde 'release_year' sea nulo\n",
    "\n",
    "data = data.dropna(subset=['release_year']).reset_index(drop=True)"
   ]
  },
  {
   "cell_type": "code",
   "execution_count": 20,
   "metadata": {},
   "outputs": [],
   "source": [
    "#Transformamos el tipo de dato a entero de los datos de la columna 'release_year'\n",
    "\n",
    "data['release_year'] = data['release_year'].astype(int)"
   ]
  },
  {
   "cell_type": "code",
   "execution_count": 21,
   "metadata": {},
   "outputs": [],
   "source": [
    "#Eliminamos la columna 'release_date'\n",
    "\n",
    "data.drop('release_date', axis=1, inplace=True)"
   ]
  },
  {
   "cell_type": "code",
   "execution_count": 22,
   "metadata": {},
   "outputs": [
    {
     "data": {
      "text/html": [
       "<div>\n",
       "<style scoped>\n",
       "    .dataframe tbody tr th:only-of-type {\n",
       "        vertical-align: middle;\n",
       "    }\n",
       "\n",
       "    .dataframe tbody tr th {\n",
       "        vertical-align: top;\n",
       "    }\n",
       "\n",
       "    .dataframe thead th {\n",
       "        text-align: right;\n",
       "    }\n",
       "</style>\n",
       "<table border=\"1\" class=\"dataframe\">\n",
       "  <thead>\n",
       "    <tr style=\"text-align: right;\">\n",
       "      <th></th>\n",
       "      <th>id</th>\n",
       "      <th>title</th>\n",
       "      <th>genres</th>\n",
       "      <th>overview</th>\n",
       "      <th>spoken_languages</th>\n",
       "      <th>popularity</th>\n",
       "      <th>release_year</th>\n",
       "    </tr>\n",
       "  </thead>\n",
       "  <tbody>\n",
       "    <tr>\n",
       "      <th>0</th>\n",
       "      <td>862</td>\n",
       "      <td>Toy Story</td>\n",
       "      <td>[{'id': 16, 'name': 'Animation'}, {'id': 35, '...</td>\n",
       "      <td>Led by Woody, Andy's toys live happily in his ...</td>\n",
       "      <td>[{'iso_639_1': 'en', 'name': 'English'}]</td>\n",
       "      <td>21.946943</td>\n",
       "      <td>1995</td>\n",
       "    </tr>\n",
       "    <tr>\n",
       "      <th>1</th>\n",
       "      <td>8844</td>\n",
       "      <td>Jumanji</td>\n",
       "      <td>[{'id': 12, 'name': 'Adventure'}, {'id': 14, '...</td>\n",
       "      <td>When siblings Judy and Peter discover an encha...</td>\n",
       "      <td>[{'iso_639_1': 'en', 'name': 'English'}, {'iso...</td>\n",
       "      <td>17.015539</td>\n",
       "      <td>1995</td>\n",
       "    </tr>\n",
       "    <tr>\n",
       "      <th>2</th>\n",
       "      <td>15602</td>\n",
       "      <td>Grumpier Old Men</td>\n",
       "      <td>[{'id': 10749, 'name': 'Romance'}, {'id': 35, ...</td>\n",
       "      <td>A family wedding reignites the ancient feud be...</td>\n",
       "      <td>[{'iso_639_1': 'en', 'name': 'English'}]</td>\n",
       "      <td>11.7129</td>\n",
       "      <td>1995</td>\n",
       "    </tr>\n",
       "  </tbody>\n",
       "</table>\n",
       "</div>"
      ],
      "text/plain": [
       "      id             title                                             genres   \n",
       "0    862         Toy Story  [{'id': 16, 'name': 'Animation'}, {'id': 35, '...  \\\n",
       "1   8844           Jumanji  [{'id': 12, 'name': 'Adventure'}, {'id': 14, '...   \n",
       "2  15602  Grumpier Old Men  [{'id': 10749, 'name': 'Romance'}, {'id': 35, ...   \n",
       "\n",
       "                                            overview   \n",
       "0  Led by Woody, Andy's toys live happily in his ...  \\\n",
       "1  When siblings Judy and Peter discover an encha...   \n",
       "2  A family wedding reignites the ancient feud be...   \n",
       "\n",
       "                                    spoken_languages popularity  release_year  \n",
       "0           [{'iso_639_1': 'en', 'name': 'English'}]  21.946943          1995  \n",
       "1  [{'iso_639_1': 'en', 'name': 'English'}, {'iso...  17.015539          1995  \n",
       "2           [{'iso_639_1': 'en', 'name': 'English'}]    11.7129          1995  "
      ]
     },
     "execution_count": 22,
     "metadata": {},
     "output_type": "execute_result"
    }
   ],
   "source": [
    "#Visualizamos el dataset\n",
    "\n",
    "data.head(3)"
   ]
  },
  {
   "cell_type": "code",
   "execution_count": 23,
   "metadata": {},
   "outputs": [],
   "source": [
    "#definimos esta funcion para exceptuar los errores con los valores faltantes\n",
    "def safe_json_loads(value):\n",
    "    try:\n",
    "        return json.loads(value)\n",
    "    except: #(json.JSONDecodeError, TypeError):\n",
    "        return {}"
   ]
  },
  {
   "cell_type": "code",
   "execution_count": 24,
   "metadata": {},
   "outputs": [],
   "source": [
    "#Queremos dejar una lista con los generos de cada paelicula, ya que tenemos es un diccionario de listas\n",
    "#Creamos un dataframe de la columna a tratar\n",
    "\n",
    "genres= pd.DataFrame(data[\"genres\"])\n",
    "\n",
    "#Reseteamos el indice\n",
    "\n",
    "genres = genres.reset_index(drop=True)\n",
    "\n",
    "#Reemplazamos comillas dobles por simples\n",
    "\n",
    "genres['genres'] = genres['genres'].str.replace(\"'\", '\"')\n",
    "\n",
    "#Rellenamos nulos con un diccionario vacio\n",
    "\n",
    "genres['genres'] = genres['genres'].fillna('{}')\n",
    "\n",
    "#Convertimos la columna que contiene cadenas JSON en una columna que contiene listas de nombres correspondientes a cada elemento del JSON.\n",
    "\n",
    "genres['genres'] = genres['genres'].apply(lambda x: [d['name'] for d in safe_json_loads(x)])\n",
    "\n",
    "#Eliminamos la columna 'genres' del dataset original\n",
    "\n",
    "data = data.drop('genres', axis=1)\n",
    "\n",
    "#Concatenamos el dataset genres al dataset original y ya queda en forma de lista\n",
    "\n",
    "data = pd.concat([data, genres], axis=1)"
   ]
  },
  {
   "cell_type": "code",
   "execution_count": 25,
   "metadata": {},
   "outputs": [],
   "source": [
    "#Queremos dejar una lista con los generos de cada paelicula, ya que tenemos es un diccionario de listas\n",
    "#Creamos un dataframe de la columna a tratar\n",
    "\n",
    "spoken_languages= pd.DataFrame(data[\"spoken_languages\"])\n",
    "\n",
    "#Reseteamos el indice\n",
    "\n",
    "spoken_languages = spoken_languages.reset_index(drop=True)\n",
    "\n",
    "#Reemplazamos comillas dobles por simples\n",
    "\n",
    "spoken_languages['spoken_languages'] = spoken_languages['spoken_languages'].str.replace(\"'\", '\"')\n",
    "\n",
    "#Rellenamos nulos con un diccionario vacio\n",
    "\n",
    "spoken_languages['spoken_languages'] = spoken_languages['spoken_languages'].fillna('{}')\n",
    "\n",
    "#Convertimos la columna que contiene cadenas JSON en una columna que contiene listas de nombres correspondientes a cada elemento del JSON.\n",
    "\n",
    "spoken_languages['spoken_languages'] = spoken_languages['spoken_languages'].apply(lambda x: [d['name'] for d in safe_json_loads(x)])\n",
    "\n",
    "#Eliminamos la columna 'spoken_languages' del dataset original\n",
    "\n",
    "data = data.drop('spoken_languages', axis=1)\n",
    "\n",
    "#Concatenamos el dataset spoken_languages al dataset original y ya queda en forma de lista\n",
    "\n",
    "data = pd.concat([data, spoken_languages], axis=1)"
   ]
  },
  {
   "cell_type": "code",
   "execution_count": 26,
   "metadata": {},
   "outputs": [
    {
     "data": {
      "text/html": [
       "<div>\n",
       "<style scoped>\n",
       "    .dataframe tbody tr th:only-of-type {\n",
       "        vertical-align: middle;\n",
       "    }\n",
       "\n",
       "    .dataframe tbody tr th {\n",
       "        vertical-align: top;\n",
       "    }\n",
       "\n",
       "    .dataframe thead th {\n",
       "        text-align: right;\n",
       "    }\n",
       "</style>\n",
       "<table border=\"1\" class=\"dataframe\">\n",
       "  <thead>\n",
       "    <tr style=\"text-align: right;\">\n",
       "      <th></th>\n",
       "      <th>id</th>\n",
       "      <th>title</th>\n",
       "      <th>overview</th>\n",
       "      <th>popularity</th>\n",
       "      <th>release_year</th>\n",
       "      <th>genres</th>\n",
       "      <th>spoken_languages</th>\n",
       "    </tr>\n",
       "  </thead>\n",
       "  <tbody>\n",
       "    <tr>\n",
       "      <th>0</th>\n",
       "      <td>862</td>\n",
       "      <td>Toy Story</td>\n",
       "      <td>Led by Woody, Andy's toys live happily in his ...</td>\n",
       "      <td>21.946943</td>\n",
       "      <td>1995</td>\n",
       "      <td>[Animation, Comedy, Family]</td>\n",
       "      <td>[English]</td>\n",
       "    </tr>\n",
       "    <tr>\n",
       "      <th>1</th>\n",
       "      <td>8844</td>\n",
       "      <td>Jumanji</td>\n",
       "      <td>When siblings Judy and Peter discover an encha...</td>\n",
       "      <td>17.015539</td>\n",
       "      <td>1995</td>\n",
       "      <td>[Adventure, Fantasy, Family]</td>\n",
       "      <td>[English, Français]</td>\n",
       "    </tr>\n",
       "    <tr>\n",
       "      <th>2</th>\n",
       "      <td>15602</td>\n",
       "      <td>Grumpier Old Men</td>\n",
       "      <td>A family wedding reignites the ancient feud be...</td>\n",
       "      <td>11.7129</td>\n",
       "      <td>1995</td>\n",
       "      <td>[Romance, Comedy]</td>\n",
       "      <td>[English]</td>\n",
       "    </tr>\n",
       "    <tr>\n",
       "      <th>3</th>\n",
       "      <td>31357</td>\n",
       "      <td>Waiting to Exhale</td>\n",
       "      <td>Cheated on, mistreated and stepped on, the wom...</td>\n",
       "      <td>3.859495</td>\n",
       "      <td>1995</td>\n",
       "      <td>[Comedy, Drama, Romance]</td>\n",
       "      <td>[English]</td>\n",
       "    </tr>\n",
       "    <tr>\n",
       "      <th>4</th>\n",
       "      <td>11862</td>\n",
       "      <td>Father of the Bride Part II</td>\n",
       "      <td>Just when George Banks has recovered from his ...</td>\n",
       "      <td>8.387519</td>\n",
       "      <td>1995</td>\n",
       "      <td>[Comedy]</td>\n",
       "      <td>[English]</td>\n",
       "    </tr>\n",
       "    <tr>\n",
       "      <th>...</th>\n",
       "      <td>...</td>\n",
       "      <td>...</td>\n",
       "      <td>...</td>\n",
       "      <td>...</td>\n",
       "      <td>...</td>\n",
       "      <td>...</td>\n",
       "      <td>...</td>\n",
       "    </tr>\n",
       "    <tr>\n",
       "      <th>45341</th>\n",
       "      <td>30840</td>\n",
       "      <td>Robin Hood</td>\n",
       "      <td>Yet another version of the classic epic, with ...</td>\n",
       "      <td>5.683753</td>\n",
       "      <td>1991</td>\n",
       "      <td>[Drama, Action, Romance]</td>\n",
       "      <td>[English]</td>\n",
       "    </tr>\n",
       "    <tr>\n",
       "      <th>45342</th>\n",
       "      <td>111109</td>\n",
       "      <td>Century of Birthing</td>\n",
       "      <td>An artist struggles to finish his work while a...</td>\n",
       "      <td>0.178241</td>\n",
       "      <td>2011</td>\n",
       "      <td>[Drama]</td>\n",
       "      <td>[]</td>\n",
       "    </tr>\n",
       "    <tr>\n",
       "      <th>45343</th>\n",
       "      <td>67758</td>\n",
       "      <td>Betrayal</td>\n",
       "      <td>When one of her hits goes wrong, a professiona...</td>\n",
       "      <td>0.903007</td>\n",
       "      <td>2003</td>\n",
       "      <td>[Action, Drama, Thriller]</td>\n",
       "      <td>[English]</td>\n",
       "    </tr>\n",
       "    <tr>\n",
       "      <th>45344</th>\n",
       "      <td>227506</td>\n",
       "      <td>Satan Triumphant</td>\n",
       "      <td>In a small town live two brothers, one a minis...</td>\n",
       "      <td>0.003503</td>\n",
       "      <td>1917</td>\n",
       "      <td>[]</td>\n",
       "      <td>[]</td>\n",
       "    </tr>\n",
       "    <tr>\n",
       "      <th>45345</th>\n",
       "      <td>461257</td>\n",
       "      <td>Queerama</td>\n",
       "      <td>50 years after decriminalisation of homosexual...</td>\n",
       "      <td>0.163015</td>\n",
       "      <td>2017</td>\n",
       "      <td>[]</td>\n",
       "      <td>[English]</td>\n",
       "    </tr>\n",
       "  </tbody>\n",
       "</table>\n",
       "<p>45346 rows × 7 columns</p>\n",
       "</div>"
      ],
      "text/plain": [
       "           id                        title   \n",
       "0         862                    Toy Story  \\\n",
       "1        8844                      Jumanji   \n",
       "2       15602             Grumpier Old Men   \n",
       "3       31357            Waiting to Exhale   \n",
       "4       11862  Father of the Bride Part II   \n",
       "...       ...                          ...   \n",
       "45341   30840                   Robin Hood   \n",
       "45342  111109          Century of Birthing   \n",
       "45343   67758                     Betrayal   \n",
       "45344  227506             Satan Triumphant   \n",
       "45345  461257                     Queerama   \n",
       "\n",
       "                                                overview popularity   \n",
       "0      Led by Woody, Andy's toys live happily in his ...  21.946943  \\\n",
       "1      When siblings Judy and Peter discover an encha...  17.015539   \n",
       "2      A family wedding reignites the ancient feud be...    11.7129   \n",
       "3      Cheated on, mistreated and stepped on, the wom...   3.859495   \n",
       "4      Just when George Banks has recovered from his ...   8.387519   \n",
       "...                                                  ...        ...   \n",
       "45341  Yet another version of the classic epic, with ...   5.683753   \n",
       "45342  An artist struggles to finish his work while a...   0.178241   \n",
       "45343  When one of her hits goes wrong, a professiona...   0.903007   \n",
       "45344  In a small town live two brothers, one a minis...   0.003503   \n",
       "45345  50 years after decriminalisation of homosexual...   0.163015   \n",
       "\n",
       "       release_year                        genres     spoken_languages  \n",
       "0              1995   [Animation, Comedy, Family]            [English]  \n",
       "1              1995  [Adventure, Fantasy, Family]  [English, Français]  \n",
       "2              1995             [Romance, Comedy]            [English]  \n",
       "3              1995      [Comedy, Drama, Romance]            [English]  \n",
       "4              1995                      [Comedy]            [English]  \n",
       "...             ...                           ...                  ...  \n",
       "45341          1991      [Drama, Action, Romance]            [English]  \n",
       "45342          2011                       [Drama]                   []  \n",
       "45343          2003     [Action, Drama, Thriller]            [English]  \n",
       "45344          1917                            []                   []  \n",
       "45345          2017                            []            [English]  \n",
       "\n",
       "[45346 rows x 7 columns]"
      ]
     },
     "execution_count": 26,
     "metadata": {},
     "output_type": "execute_result"
    }
   ],
   "source": [
    "data"
   ]
  },
  {
   "cell_type": "code",
   "execution_count": 27,
   "metadata": {},
   "outputs": [],
   "source": [
    "#Eliminamos filas que contengan una lista vacía en alguna columna\n",
    "data = data[data.apply(lambda row: not any(isinstance(val, list) and len(val) == 0 for val in row), axis=1)]"
   ]
  },
  {
   "cell_type": "code",
   "execution_count": 28,
   "metadata": {},
   "outputs": [
    {
     "name": "stderr",
     "output_type": "stream",
     "text": [
      "C:\\Users\\Usuario\\AppData\\Local\\Temp\\ipykernel_18732\\1376088848.py:3: SettingWithCopyWarning: \n",
      "A value is trying to be set on a copy of a slice from a DataFrame.\n",
      "Try using .loc[row_indexer,col_indexer] = value instead\n",
      "\n",
      "See the caveats in the documentation: https://pandas.pydata.org/pandas-docs/stable/user_guide/indexing.html#returning-a-view-versus-a-copy\n",
      "  data[\"title\"] = data[\"title\"].str.strip()\n",
      "C:\\Users\\Usuario\\AppData\\Local\\Temp\\ipykernel_18732\\1376088848.py:4: SettingWithCopyWarning: \n",
      "A value is trying to be set on a copy of a slice from a DataFrame.\n",
      "Try using .loc[row_indexer,col_indexer] = value instead\n",
      "\n",
      "See the caveats in the documentation: https://pandas.pydata.org/pandas-docs/stable/user_guide/indexing.html#returning-a-view-versus-a-copy\n",
      "  data[\"overview\"] = data[\"overview\"].str.strip().str.lower()\n"
     ]
    }
   ],
   "source": [
    "#Eliminamos espacios al principio y final de los datos de la columna \"title\" y \"overview\", \"overview\" lo pasamos a minuscula todos los caracteres\n",
    "\n",
    "data[\"title\"] = data[\"title\"].str.strip()\n",
    "data[\"overview\"] = data[\"overview\"].str.strip().str.lower()"
   ]
  },
  {
   "cell_type": "code",
   "execution_count": 29,
   "metadata": {},
   "outputs": [],
   "source": [
    "#Definimos la funcion para limpiar el texto de la columna overview\n",
    "\n",
    "def clean_text(text):\n",
    "    #Verificamos si el valor es una cadena de texto\n",
    "\n",
    "    if isinstance(text, str):  \n",
    "\n",
    "        #Eliminamos caracteres especiales y puntuación\n",
    "\n",
    "        text = re.sub(r'[^\\w\\s]', '', text)\n",
    "\n",
    "        #Convertimos a minúsculas\n",
    "        \n",
    "        text = text.lower()\n",
    "    return text\n"
   ]
  },
  {
   "cell_type": "code",
   "execution_count": 30,
   "metadata": {},
   "outputs": [
    {
     "name": "stderr",
     "output_type": "stream",
     "text": [
      "C:\\Users\\Usuario\\AppData\\Local\\Temp\\ipykernel_18732\\3932186009.py:3: SettingWithCopyWarning: \n",
      "A value is trying to be set on a copy of a slice from a DataFrame.\n",
      "Try using .loc[row_indexer,col_indexer] = value instead\n",
      "\n",
      "See the caveats in the documentation: https://pandas.pydata.org/pandas-docs/stable/user_guide/indexing.html#returning-a-view-versus-a-copy\n",
      "  data['overview'] = data['overview'].apply(clean_text)\n"
     ]
    }
   ],
   "source": [
    "#Aplicamos la funcion para limpiar texto a 'overview'\n",
    "\n",
    "data['overview'] = data['overview'].apply(clean_text)"
   ]
  },
  {
   "cell_type": "code",
   "execution_count": 31,
   "metadata": {},
   "outputs": [
    {
     "data": {
      "text/plain": [
       "False    37600\n",
       "True      2691\n",
       "Name: count, dtype: int64"
      ]
     },
     "execution_count": 31,
     "metadata": {},
     "output_type": "execute_result"
    }
   ],
   "source": [
    "#Visualizamos los duplicados en la columna \"title\"\n",
    "\n",
    "data.duplicated(subset=[\"title\"]).value_counts()"
   ]
  },
  {
   "cell_type": "code",
   "execution_count": 32,
   "metadata": {},
   "outputs": [
    {
     "name": "stderr",
     "output_type": "stream",
     "text": [
      "C:\\Users\\Usuario\\AppData\\Local\\Temp\\ipykernel_18732\\2597211142.py:3: SettingWithCopyWarning: \n",
      "A value is trying to be set on a copy of a slice from a DataFrame\n",
      "\n",
      "See the caveats in the documentation: https://pandas.pydata.org/pandas-docs/stable/user_guide/indexing.html#returning-a-view-versus-a-copy\n",
      "  data.drop_duplicates(subset=[\"title\"], keep='first', inplace=True)\n"
     ]
    }
   ],
   "source": [
    "#Para fines del modelo no nos interesan titulos duplicados, ya que hay titulos repetidos pero de diferentes años, y para hacer el dataset mas pequeño omitimos esas repeticiones y nos quedamos con la primera aparicion\n",
    "\n",
    "data.drop_duplicates(subset=[\"title\"], keep='first', inplace=True)\n",
    "data.reset_index(drop=True, inplace=True)"
   ]
  },
  {
   "cell_type": "code",
   "execution_count": 33,
   "metadata": {},
   "outputs": [
    {
     "name": "stderr",
     "output_type": "stream",
     "text": [
      "[nltk_data] Downloading package punkt to\n",
      "[nltk_data]     C:\\Users\\Usuario\\AppData\\Roaming\\nltk_data...\n",
      "[nltk_data]   Package punkt is already up-to-date!\n",
      "[nltk_data] Downloading package stopwords to\n",
      "[nltk_data]     C:\\Users\\Usuario\\AppData\\Roaming\\nltk_data...\n",
      "[nltk_data]   Package stopwords is already up-to-date!\n",
      "[nltk_data] Downloading package wordnet to\n",
      "[nltk_data]     C:\\Users\\Usuario\\AppData\\Roaming\\nltk_data...\n",
      "[nltk_data]   Package wordnet is already up-to-date!\n"
     ]
    },
    {
     "data": {
      "text/plain": [
       "True"
      ]
     },
     "execution_count": 33,
     "metadata": {},
     "output_type": "execute_result"
    }
   ],
   "source": [
    "#Descargar recursos necesarios para NLTK\n",
    "\n",
    "nltk.download('punkt')\n",
    "nltk.download('stopwords')\n",
    "nltk.download('wordnet')"
   ]
  },
  {
   "cell_type": "code",
   "execution_count": 34,
   "metadata": {},
   "outputs": [],
   "source": [
    "#Creamos objeto de lematización\n",
    "\n",
    "lemmatizer = WordNetLemmatizer()"
   ]
  },
  {
   "cell_type": "code",
   "execution_count": 35,
   "metadata": {},
   "outputs": [],
   "source": [
    "#Obtenemos lista de stopwords en inglés\n",
    "\n",
    "stopwords_list = set(stopwords.words('english'))"
   ]
  },
  {
   "cell_type": "code",
   "execution_count": 36,
   "metadata": {},
   "outputs": [],
   "source": [
    "#Definimos una funcion para trtar cadenas de texto\n",
    "\n",
    "def preprocess_text(text):\n",
    "\n",
    "    #Verificamos si el valor es una cadena de texto\n",
    "\n",
    "    if isinstance(text, str):\n",
    "\n",
    "        #Tokenización\n",
    "\n",
    "        tokens = word_tokenize(text)\n",
    "        \n",
    "        #Eliminación de puntuación y palabras vacías\n",
    "\n",
    "        tokens = [token.lower() for token in tokens if token.lower() not in stopwords_list and token.lower() not in string.punctuation]\n",
    "        \n",
    "        # Lematización\n",
    "\n",
    "        tokens = [lemmatizer.lemmatize(token) for token in tokens]\n",
    "        \n",
    "        # Unimos tokens en una cadena de texto nuevamente\n",
    "\n",
    "        processed_text = ' '.join(tokens)\n",
    "        return processed_text\n",
    "    else:\n",
    "\n",
    "        # Devolvemos una cadena vacía para valores no válidos\n",
    "\n",
    "        return ''  \n"
   ]
  },
  {
   "cell_type": "code",
   "execution_count": 37,
   "metadata": {},
   "outputs": [
    {
     "name": "stderr",
     "output_type": "stream",
     "text": [
      "C:\\Users\\Usuario\\AppData\\Local\\Temp\\ipykernel_18732\\485640941.py:3: SettingWithCopyWarning: \n",
      "A value is trying to be set on a copy of a slice from a DataFrame.\n",
      "Try using .loc[row_indexer,col_indexer] = value instead\n",
      "\n",
      "See the caveats in the documentation: https://pandas.pydata.org/pandas-docs/stable/user_guide/indexing.html#returning-a-view-versus-a-copy\n",
      "  data['overview'] = data['overview'].apply(preprocess_text)\n"
     ]
    }
   ],
   "source": [
    "# Aplicamos la función de preprocesamiento a la columna 'overview' en el dataFrame\n",
    "\n",
    "data['overview'] = data['overview'].apply(preprocess_text)\n"
   ]
  },
  {
   "cell_type": "code",
   "execution_count": 38,
   "metadata": {},
   "outputs": [],
   "source": [
    "data.to_csv(\"Datasets\\data_con_EDA.csv\", index=False)\n"
   ]
  },
  {
   "cell_type": "code",
   "execution_count": 39,
   "metadata": {},
   "outputs": [
    {
     "data": {
      "text/html": [
       "<div>\n",
       "<style scoped>\n",
       "    .dataframe tbody tr th:only-of-type {\n",
       "        vertical-align: middle;\n",
       "    }\n",
       "\n",
       "    .dataframe tbody tr th {\n",
       "        vertical-align: top;\n",
       "    }\n",
       "\n",
       "    .dataframe thead th {\n",
       "        text-align: right;\n",
       "    }\n",
       "</style>\n",
       "<table border=\"1\" class=\"dataframe\">\n",
       "  <thead>\n",
       "    <tr style=\"text-align: right;\">\n",
       "      <th></th>\n",
       "      <th>id</th>\n",
       "      <th>title</th>\n",
       "      <th>overview</th>\n",
       "      <th>popularity</th>\n",
       "      <th>release_year</th>\n",
       "      <th>genres</th>\n",
       "      <th>spoken_languages</th>\n",
       "    </tr>\n",
       "  </thead>\n",
       "  <tbody>\n",
       "    <tr>\n",
       "      <th>0</th>\n",
       "      <td>862</td>\n",
       "      <td>Toy Story</td>\n",
       "      <td>led woody andys toy live happily room andys bi...</td>\n",
       "      <td>21.946943</td>\n",
       "      <td>1995</td>\n",
       "      <td>[Animation, Comedy, Family]</td>\n",
       "      <td>[English]</td>\n",
       "    </tr>\n",
       "    <tr>\n",
       "      <th>1</th>\n",
       "      <td>8844</td>\n",
       "      <td>Jumanji</td>\n",
       "      <td>sibling judy peter discover enchanted board ga...</td>\n",
       "      <td>17.015539</td>\n",
       "      <td>1995</td>\n",
       "      <td>[Adventure, Fantasy, Family]</td>\n",
       "      <td>[English, Français]</td>\n",
       "    </tr>\n",
       "    <tr>\n",
       "      <th>2</th>\n",
       "      <td>15602</td>\n",
       "      <td>Grumpier Old Men</td>\n",
       "      <td>family wedding reignites ancient feud nextdoor...</td>\n",
       "      <td>11.7129</td>\n",
       "      <td>1995</td>\n",
       "      <td>[Romance, Comedy]</td>\n",
       "      <td>[English]</td>\n",
       "    </tr>\n",
       "    <tr>\n",
       "      <th>3</th>\n",
       "      <td>31357</td>\n",
       "      <td>Waiting to Exhale</td>\n",
       "      <td>cheated mistreated stepped woman holding breat...</td>\n",
       "      <td>3.859495</td>\n",
       "      <td>1995</td>\n",
       "      <td>[Comedy, Drama, Romance]</td>\n",
       "      <td>[English]</td>\n",
       "    </tr>\n",
       "    <tr>\n",
       "      <th>4</th>\n",
       "      <td>11862</td>\n",
       "      <td>Father of the Bride Part II</td>\n",
       "      <td>george bank recovered daughter wedding receive...</td>\n",
       "      <td>8.387519</td>\n",
       "      <td>1995</td>\n",
       "      <td>[Comedy]</td>\n",
       "      <td>[English]</td>\n",
       "    </tr>\n",
       "    <tr>\n",
       "      <th>...</th>\n",
       "      <td>...</td>\n",
       "      <td>...</td>\n",
       "      <td>...</td>\n",
       "      <td>...</td>\n",
       "      <td>...</td>\n",
       "      <td>...</td>\n",
       "      <td>...</td>\n",
       "    </tr>\n",
       "    <tr>\n",
       "      <th>37595</th>\n",
       "      <td>84419</td>\n",
       "      <td>House of Horrors</td>\n",
       "      <td>unsuccessful sculptor save madman named creepe...</td>\n",
       "      <td>0.222814</td>\n",
       "      <td>1946</td>\n",
       "      <td>[Horror, Mystery, Thriller]</td>\n",
       "      <td>[English]</td>\n",
       "    </tr>\n",
       "    <tr>\n",
       "      <th>37596</th>\n",
       "      <td>390959</td>\n",
       "      <td>Shadow of the Blair Witch</td>\n",
       "      <td>truecrime documentary delve murder spree inspi...</td>\n",
       "      <td>0.076061</td>\n",
       "      <td>2000</td>\n",
       "      <td>[Mystery, Horror]</td>\n",
       "      <td>[English]</td>\n",
       "    </tr>\n",
       "    <tr>\n",
       "      <th>37597</th>\n",
       "      <td>289923</td>\n",
       "      <td>The Burkittsville 7</td>\n",
       "      <td>film archivist revisits story rustin parr herm...</td>\n",
       "      <td>0.38645</td>\n",
       "      <td>2000</td>\n",
       "      <td>[Horror]</td>\n",
       "      <td>[English]</td>\n",
       "    </tr>\n",
       "    <tr>\n",
       "      <th>37598</th>\n",
       "      <td>222848</td>\n",
       "      <td>Caged Heat 3000</td>\n",
       "      <td>year 3000 ad world dangerous woman banished re...</td>\n",
       "      <td>0.661558</td>\n",
       "      <td>1995</td>\n",
       "      <td>[Science Fiction]</td>\n",
       "      <td>[English]</td>\n",
       "    </tr>\n",
       "    <tr>\n",
       "      <th>37599</th>\n",
       "      <td>111109</td>\n",
       "      <td>Century of Birthing</td>\n",
       "      <td>artist struggle finish work storyline cult pla...</td>\n",
       "      <td>0.178241</td>\n",
       "      <td>2011</td>\n",
       "      <td>[Drama]</td>\n",
       "      <td>[]</td>\n",
       "    </tr>\n",
       "  </tbody>\n",
       "</table>\n",
       "<p>37600 rows × 7 columns</p>\n",
       "</div>"
      ],
      "text/plain": [
       "           id                        title   \n",
       "0         862                    Toy Story  \\\n",
       "1        8844                      Jumanji   \n",
       "2       15602             Grumpier Old Men   \n",
       "3       31357            Waiting to Exhale   \n",
       "4       11862  Father of the Bride Part II   \n",
       "...       ...                          ...   \n",
       "37595   84419             House of Horrors   \n",
       "37596  390959    Shadow of the Blair Witch   \n",
       "37597  289923          The Burkittsville 7   \n",
       "37598  222848              Caged Heat 3000   \n",
       "37599  111109          Century of Birthing   \n",
       "\n",
       "                                                overview popularity   \n",
       "0      led woody andys toy live happily room andys bi...  21.946943  \\\n",
       "1      sibling judy peter discover enchanted board ga...  17.015539   \n",
       "2      family wedding reignites ancient feud nextdoor...    11.7129   \n",
       "3      cheated mistreated stepped woman holding breat...   3.859495   \n",
       "4      george bank recovered daughter wedding receive...   8.387519   \n",
       "...                                                  ...        ...   \n",
       "37595  unsuccessful sculptor save madman named creepe...   0.222814   \n",
       "37596  truecrime documentary delve murder spree inspi...   0.076061   \n",
       "37597  film archivist revisits story rustin parr herm...    0.38645   \n",
       "37598  year 3000 ad world dangerous woman banished re...   0.661558   \n",
       "37599  artist struggle finish work storyline cult pla...   0.178241   \n",
       "\n",
       "       release_year                        genres     spoken_languages  \n",
       "0              1995   [Animation, Comedy, Family]            [English]  \n",
       "1              1995  [Adventure, Fantasy, Family]  [English, Français]  \n",
       "2              1995             [Romance, Comedy]            [English]  \n",
       "3              1995      [Comedy, Drama, Romance]            [English]  \n",
       "4              1995                      [Comedy]            [English]  \n",
       "...             ...                           ...                  ...  \n",
       "37595          1946   [Horror, Mystery, Thriller]            [English]  \n",
       "37596          2000             [Mystery, Horror]            [English]  \n",
       "37597          2000                      [Horror]            [English]  \n",
       "37598          1995             [Science Fiction]            [English]  \n",
       "37599          2011                       [Drama]                   []  \n",
       "\n",
       "[37600 rows x 7 columns]"
      ]
     },
     "execution_count": 39,
     "metadata": {},
     "output_type": "execute_result"
    }
   ],
   "source": [
    "data "
   ]
  }
 ],
 "metadata": {
  "kernelspec": {
   "display_name": "Python 3",
   "language": "python",
   "name": "python3"
  },
  "language_info": {
   "codemirror_mode": {
    "name": "ipython",
    "version": 3
   },
   "file_extension": ".py",
   "mimetype": "text/x-python",
   "name": "python",
   "nbconvert_exporter": "python",
   "pygments_lexer": "ipython3",
   "version": "3.11.2"
  },
  "orig_nbformat": 4
 },
 "nbformat": 4,
 "nbformat_minor": 2
}
