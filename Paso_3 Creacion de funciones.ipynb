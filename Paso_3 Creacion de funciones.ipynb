{
 "cells": [
  {
   "attachments": {},
   "cell_type": "markdown",
   "metadata": {},
   "source": [
    "CREACION DE FUNCIONES"
   ]
  },
  {
   "cell_type": "code",
   "execution_count": 1,
   "metadata": {},
   "outputs": [],
   "source": [
    "#Importamos las librerias a utilizar\n",
    "\n",
    "import pandas as pd"
   ]
  },
  {
   "cell_type": "code",
   "execution_count": 2,
   "metadata": {},
   "outputs": [
    {
     "name": "stderr",
     "output_type": "stream",
     "text": [
      "C:\\Users\\Usuario\\AppData\\Local\\Temp\\ipykernel_3324\\2556991724.py:2: DtypeWarning: Columns (46,47,48,49,50,51,52,53,54,56,57,58) have mixed types. Specify dtype option on import or set low_memory=False.\n",
      "  data = pd.read_csv('data_funciones.csv')\n"
     ]
    }
   ],
   "source": [
    "#Cargamos el dataset\n",
    "\n",
    "data = pd.read_csv('data_funciones.csv')"
   ]
  },
  {
   "cell_type": "code",
   "execution_count": 3,
   "metadata": {},
   "outputs": [
    {
     "data": {
      "text/html": [
       "<div>\n",
       "<style scoped>\n",
       "    .dataframe tbody tr th:only-of-type {\n",
       "        vertical-align: middle;\n",
       "    }\n",
       "\n",
       "    .dataframe tbody tr th {\n",
       "        vertical-align: top;\n",
       "    }\n",
       "\n",
       "    .dataframe thead th {\n",
       "        text-align: right;\n",
       "    }\n",
       "</style>\n",
       "<table border=\"1\" class=\"dataframe\">\n",
       "  <thead>\n",
       "    <tr style=\"text-align: right;\">\n",
       "      <th></th>\n",
       "      <th>budget</th>\n",
       "      <th>id</th>\n",
       "      <th>release_date</th>\n",
       "      <th>revenue</th>\n",
       "      <th>title</th>\n",
       "      <th>release_year</th>\n",
       "      <th>return</th>\n",
       "      <th>collection_name</th>\n",
       "      <th>pc_name_0</th>\n",
       "      <th>pc_name_1</th>\n",
       "      <th>...</th>\n",
       "      <th>pco_name_18</th>\n",
       "      <th>pco_name_19</th>\n",
       "      <th>pco_name_20</th>\n",
       "      <th>pco_name_21</th>\n",
       "      <th>pco_name_22</th>\n",
       "      <th>pco_name_23</th>\n",
       "      <th>pco_name_24</th>\n",
       "      <th>dia</th>\n",
       "      <th>mes</th>\n",
       "      <th>anio</th>\n",
       "    </tr>\n",
       "  </thead>\n",
       "  <tbody>\n",
       "    <tr>\n",
       "      <th>0</th>\n",
       "      <td>30000000.0</td>\n",
       "      <td>862</td>\n",
       "      <td>1995-10-30</td>\n",
       "      <td>373554033.0</td>\n",
       "      <td>Toy Story</td>\n",
       "      <td>1995</td>\n",
       "      <td>12.451801</td>\n",
       "      <td>Toy Story Collection</td>\n",
       "      <td>Pixar Animation Studios</td>\n",
       "      <td>NaN</td>\n",
       "      <td>...</td>\n",
       "      <td>NaN</td>\n",
       "      <td>NaN</td>\n",
       "      <td>NaN</td>\n",
       "      <td>NaN</td>\n",
       "      <td>NaN</td>\n",
       "      <td>NaN</td>\n",
       "      <td>NaN</td>\n",
       "      <td>lunes</td>\n",
       "      <td>octubre</td>\n",
       "      <td>1995</td>\n",
       "    </tr>\n",
       "    <tr>\n",
       "      <th>1</th>\n",
       "      <td>65000000.0</td>\n",
       "      <td>8844</td>\n",
       "      <td>1995-12-15</td>\n",
       "      <td>262797249.0</td>\n",
       "      <td>Jumanji</td>\n",
       "      <td>1995</td>\n",
       "      <td>4.043035</td>\n",
       "      <td>NaN</td>\n",
       "      <td>TriStar Pictures</td>\n",
       "      <td>Teitler Film</td>\n",
       "      <td>...</td>\n",
       "      <td>NaN</td>\n",
       "      <td>NaN</td>\n",
       "      <td>NaN</td>\n",
       "      <td>NaN</td>\n",
       "      <td>NaN</td>\n",
       "      <td>NaN</td>\n",
       "      <td>NaN</td>\n",
       "      <td>viernes</td>\n",
       "      <td>diciembre</td>\n",
       "      <td>1995</td>\n",
       "    </tr>\n",
       "  </tbody>\n",
       "</table>\n",
       "<p>2 rows × 62 columns</p>\n",
       "</div>"
      ],
      "text/plain": [
       "       budget    id release_date      revenue      title  release_year   \n",
       "0  30000000.0   862   1995-10-30  373554033.0  Toy Story          1995  \\\n",
       "1  65000000.0  8844   1995-12-15  262797249.0    Jumanji          1995   \n",
       "\n",
       "      return       collection_name                pc_name_0     pc_name_1   \n",
       "0  12.451801  Toy Story Collection  Pixar Animation Studios           NaN  \\\n",
       "1   4.043035                   NaN         TriStar Pictures  Teitler Film   \n",
       "\n",
       "   ... pco_name_18 pco_name_19 pco_name_20 pco_name_21 pco_name_22   \n",
       "0  ...         NaN         NaN         NaN         NaN         NaN  \\\n",
       "1  ...         NaN         NaN         NaN         NaN         NaN   \n",
       "\n",
       "  pco_name_23 pco_name_24      dia        mes  anio  \n",
       "0         NaN         NaN    lunes    octubre  1995  \n",
       "1         NaN         NaN  viernes  diciembre  1995  \n",
       "\n",
       "[2 rows x 62 columns]"
      ]
     },
     "execution_count": 3,
     "metadata": {},
     "output_type": "execute_result"
    }
   ],
   "source": [
    "#Visualizamos el inicio del dataset\n",
    "\n",
    "data.head(2)"
   ]
  },
  {
   "cell_type": "code",
   "execution_count": 4,
   "metadata": {},
   "outputs": [],
   "source": [
    "#Definimos la primera funcion: \"def peliculas_mes(mes): '''Se ingresa el mes y la funcion retorna la cantidad de peliculas que se estrenaron ese mes (nombre del mes, en str, ejemplo 'enero') historicamente''' return {'mes':mes, 'cantidad':respuesta}\"\n",
    "\n",
    "def peliculas_mes(mes):\n",
    "    \n",
    "    #Nos quedamos solo con un dataframe con las peliculas de ese mes\n",
    "\n",
    "    df_mes = data[data['mes'].str.lower() == mes.lower()]\n",
    "    \n",
    "    #Obtenemos la cantidad de películas estrenadas ese mes\n",
    "\n",
    "    cantidad_peliculas = len(df_mes)\n",
    "    \n",
    "    #Devolvemos un diccionario con el nombre del mes y la cantidad de películas estrenadas ese mes\n",
    "\n",
    "    return {'Mes': mes.capitalize(), 'Cantidad': cantidad_peliculas}\n"
   ]
  },
  {
   "cell_type": "code",
   "execution_count": 5,
   "metadata": {},
   "outputs": [
    {
     "data": {
      "text/plain": [
       "{'Mes': 'Diciembre', 'Cantidad': 3781}"
      ]
     },
     "execution_count": 5,
     "metadata": {},
     "output_type": "execute_result"
    }
   ],
   "source": [
    "peliculas_mes(\"diciembre\")"
   ]
  },
  {
   "cell_type": "code",
   "execution_count": 6,
   "metadata": {},
   "outputs": [],
   "source": [
    "#Definimos la segunda funcion: \"def peliculas_dia(dia): '''Se ingresa el dia y la funcion retorna la cantidad de peliculas que se estrenaron ese dia (de la semana, en str, ejemplo 'lunes') historicamente''' return {'dia':dia, 'cantidad':respuesta}\"\n",
    "\n",
    "def peliculas_dia(dia):\n",
    "    \n",
    "    #Nos quedamos solo con un dataframe con las peliculas de ese dia\n",
    "\n",
    "    df_dia = data[data['dia'].str.lower() == dia.lower()]\n",
    "    \n",
    "    #Obtenemos la cantidad de películas estrenadas ese dia\n",
    "\n",
    "    cantidad_peliculas = len(df_dia)\n",
    "    \n",
    "    #Devolvemos un diccionario con el nombre del dia y la cantidad de películas estrenadas ese dia\n",
    "    \n",
    "    return {'Dia': dia.capitalize(), 'Cantidad': cantidad_peliculas}"
   ]
  },
  {
   "cell_type": "code",
   "execution_count": 7,
   "metadata": {},
   "outputs": [
    {
     "data": {
      "text/plain": [
       "{'Dia': 'Lunes', 'Cantidad': 3500}"
      ]
     },
     "execution_count": 7,
     "metadata": {},
     "output_type": "execute_result"
    }
   ],
   "source": [
    "peliculas_dia(\"lunes\")"
   ]
  },
  {
   "cell_type": "code",
   "execution_count": 8,
   "metadata": {},
   "outputs": [],
   "source": [
    "#Definimos la tercera funcion: \"def franquicia(franquicia): '''Se ingresa la franquicia, retornando la cantidad de peliculas, ganancia total y promedio''' return {'franquicia':franquicia, 'cantidad':respuesta, 'ganancia_total':respuesta, 'ganancia_promedio':respuesta}\"\n",
    "\n",
    "def franquicia(franquicia):\n",
    "       \n",
    "    #Nos quedamos solo con un dataframe con las peliculas de esa colección proporcionada\n",
    "\n",
    "    df_franquicia = data[data['collection_name'] == franquicia]\n",
    "\n",
    "    #Obtenemos la cantidad de películas estrenadas ese dia\n",
    "\n",
    "    cantidad_peliculas = len(df_franquicia)\n",
    "    \n",
    "    #Calculamos el promedio y el total de la ganancia para las películas de la colección\n",
    "\n",
    "    ganancia_promedio = df_franquicia['revenue'].mean()\n",
    "    ganancia_total = df_franquicia['revenue'].sum()\n",
    "    \n",
    "    #Devolvemos un diccionario con la información\n",
    "\n",
    "    return {\n",
    "            'Franquicia': franquicia,\n",
    "            'Cantidad':cantidad_peliculas,\n",
    "            'Ganancia_total': ganancia_total,\n",
    "            'Ganancia_promedio': ganancia_promedio\n",
    "    }"
   ]
  },
  {
   "cell_type": "code",
   "execution_count": 9,
   "metadata": {},
   "outputs": [
    {
     "data": {
      "text/plain": [
       "{'Franquicia': 'Zatôichi: The Blind Swordsman',\n",
       " 'Cantidad': 26,\n",
       " 'Ganancia_total': 0.0,\n",
       " 'Ganancia_promedio': 0.0}"
      ]
     },
     "execution_count": 9,
     "metadata": {},
     "output_type": "execute_result"
    }
   ],
   "source": [
    "franquicia(\"Zatôichi: The Blind Swordsman\")"
   ]
  },
  {
   "cell_type": "code",
   "execution_count": 10,
   "metadata": {},
   "outputs": [],
   "source": [
    "#Definimos la cuarta funcion: \"def peliculas_pais(pais): '''Ingresas el pais, retornando la cantidad de peliculas producidas en el mismo''' return {'pais':pais, 'cantidad':respuesta}\"\n",
    "\n",
    "def peliculas_pais(pais):\n",
    "\n",
    "    #Nos quedamos solo con un dataframe con las peliculas de ese pais proporcionado, hay varias columnas con los diferentes paises de produccion de la pelicula por eso se usa un for y luegp el eq para comprobar que el pais proporcionado este en esa fila\n",
    "    \n",
    "    columnas_pais = [f'pco_name_{i}' for i in range(25)]\n",
    "    df_pais = data[data[columnas_pais].eq(pais).any(axis=1)]    \n",
    "    \n",
    "    #Obtenemos la cantidad de películas producidas en el país\n",
    "\n",
    "    cantidad = df_pais.shape[0]\n",
    "    \n",
    "    #Devolvemos un diccionario con la información\n",
    "\n",
    "    return {\n",
    "        'Pais': pais,\n",
    "        'Cantidad': cantidad\n",
    "    }"
   ]
  },
  {
   "cell_type": "code",
   "execution_count": 17,
   "metadata": {},
   "outputs": [
    {
     "data": {
      "text/plain": [
       "{'Pais': 'United Kingdom', 'Cantidad': 4088}"
      ]
     },
     "execution_count": 17,
     "metadata": {},
     "output_type": "execute_result"
    }
   ],
   "source": [
    "peliculas_pais(\"United Kingdom\")"
   ]
  },
  {
   "cell_type": "code",
   "execution_count": 12,
   "metadata": {},
   "outputs": [],
   "source": [
    "#Definimos la quinta funcion: \"def productoras(productora): '''Ingresas la productora, retornando la ganancia total y la cantidad de peliculas que produjeron''' return {'productora':productora, 'ganancia_total':respuesta, 'cantidad':respuesta}\"\n",
    "\n",
    "def productoras(productora):\n",
    "\n",
    "    #Nos quedamos solo con un dataframe con las peliculas de esa productora proporcionada\n",
    "\n",
    "    columnas_productoras = [f'pc_name_{i}' for i in range(26)]\n",
    "    df_pc = data[data[columnas_productoras].eq(productora).any(axis=1)]\n",
    "\n",
    "    #Calculamos la ganancia total de las películas de la productora\n",
    "\n",
    "    ganancia_total = df_pc['revenue'].sum()\n",
    "\n",
    "    #Contamos la cantidad de películas asociadas a la productora\n",
    "\n",
    "    cantidad = df_pc.shape[0]\n",
    "\n",
    "    #Devolvemos un diccionario con la información\n",
    "\n",
    "    return {\n",
    "        'Productora': productora,\n",
    "        'Ganancia_total': ganancia_total,\n",
    "        'Cantidad': cantidad\n",
    "    }"
   ]
  },
  {
   "cell_type": "code",
   "execution_count": 13,
   "metadata": {},
   "outputs": [
    {
     "data": {
      "text/plain": [
       "{'Productora': 'Paramount Pictures',\n",
       " 'Ganancia_total': 48428572442.0,\n",
       " 'Cantidad': 998}"
      ]
     },
     "execution_count": 13,
     "metadata": {},
     "output_type": "execute_result"
    }
   ],
   "source": [
    "productoras(\"Paramount Pictures\")"
   ]
  },
  {
   "cell_type": "code",
   "execution_count": 14,
   "metadata": {},
   "outputs": [],
   "source": [
    "#Para la ultima funcion convertimos los datos de las columnas a utilizar a numericos para evitar errores\n",
    "\n",
    "data['budget'] = pd.to_numeric(data['budget'], errors='coerce')\n",
    "data['revenue'] = pd.to_numeric(data['revenue'], errors='coerce')\n",
    "data['return'] = pd.to_numeric(data['return'], errors='coerce')\n",
    "data['release_year'] = pd.to_numeric(data['release_year'], errors='coerce')"
   ]
  },
  {
   "cell_type": "code",
   "execution_count": 15,
   "metadata": {},
   "outputs": [],
   "source": [
    "#Definimos la sexta funcion: \"def retorno(pelicula): '''Ingresas la pelicula, retornando la inversion, la ganancia, el retorno y el año en el que se lanzo''' return {'pelicula':pelicula, 'inversion':respuesta, 'ganacia':respuesta,'retorno':respuesta, 'anio':respuesta}\"\n",
    "\n",
    "def retorno(pelicula):\n",
    "    #Eliminamos filas duplicadas basadas en la columna 'title'\n",
    "\n",
    "    data_unica = data.drop_duplicates(subset='title')\n",
    "\n",
    "    #Nos quedamos solo con un dataframe con los datos de esa película proporcionada\n",
    "\n",
    "    data_pelicula = data_unica[data_unica['title'] == pelicula]\n",
    "\n",
    "    #Verificamos si se encontró la película\n",
    "    if len(data_pelicula) == 0:\n",
    "        return {'error': 'Película no encontrada'}\n",
    "\n",
    "    #Obtenemos los valores de las columnas de interés\n",
    "    \n",
    "    inversion = data_pelicula['budget'].iloc[0].item()\n",
    "    ganancia = data_pelicula['revenue'].iloc[0].item()\n",
    "    retorno = data_pelicula['return'].iloc[0].item()\n",
    "    anio = data_pelicula['release_year'].iloc[0].item()\n",
    "\n",
    "    #Devolvemos un diccionario con la información\n",
    "    \n",
    "    informacion_pelicula = {\n",
    "        'Pelicula': pelicula,\n",
    "        'Inversion': inversion,\n",
    "        'Ganancia': ganancia,\n",
    "        'Retorno': retorno,\n",
    "        'Anio': anio\n",
    "    }\n",
    "    return informacion_pelicula"
   ]
  },
  {
   "cell_type": "code",
   "execution_count": 16,
   "metadata": {},
   "outputs": [
    {
     "data": {
      "text/plain": [
       "{'Pelicula': 'Alice in Wonderland',\n",
       " 'Inversion': 3000000.0,\n",
       " 'Ganancia': 572000000.0,\n",
       " 'Retorno': 190.66666666666663,\n",
       " 'Anio': 1951}"
      ]
     },
     "execution_count": 16,
     "metadata": {},
     "output_type": "execute_result"
    }
   ],
   "source": [
    "retorno(\"Alice in Wonderland\")"
   ]
  }
 ],
 "metadata": {
  "kernelspec": {
   "display_name": "Python 3",
   "language": "python",
   "name": "python3"
  },
  "language_info": {
   "codemirror_mode": {
    "name": "ipython",
    "version": 3
   },
   "file_extension": ".py",
   "mimetype": "text/x-python",
   "name": "python",
   "nbconvert_exporter": "python",
   "pygments_lexer": "ipython3",
   "version": "3.11.2"
  },
  "orig_nbformat": 4
 },
 "nbformat": 4,
 "nbformat_minor": 2
}
