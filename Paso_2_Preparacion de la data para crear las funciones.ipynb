{
 "cells": [
  {
   "attachments": {},
   "cell_type": "markdown",
   "metadata": {},
   "source": [
    "PREPARACION DE LA DATA PARA UTILIZAR LAS FUNCIONES"
   ]
  },
  {
   "cell_type": "code",
   "execution_count": 3,
   "metadata": {},
   "outputs": [],
   "source": [
    "#Importamos las librerias a utilizar\n",
    "\n",
    "import pandas as pd\n",
    "from datetime import datetime \n",
    "import calendar\n",
    "import locale"
   ]
  },
  {
   "cell_type": "code",
   "execution_count": 12,
   "metadata": {},
   "outputs": [
    {
     "name": "stderr",
     "output_type": "stream",
     "text": [
      "C:\\Users\\Usuario\\AppData\\Local\\Temp\\ipykernel_19156\\1608949228.py:2: DtypeWarning: Columns (31,33,60,62,64,66,68,70,72,74,76,78,80,82,84,94,95,96,97,98,99,100,101,102,103,104,105,106,107,108,109,110,111,112,113,114,115,116,117,118,119,120,121,122,123,124,125,126,127,128,129,130,131,132,133,134,135,144,145,146,147,148,149,150,151,152,153,154,155,156,157,158,159,160,161) have mixed types. Specify dtype option on import or set low_memory=False.\n",
      "  fun = pd.read_csv('data_desanidada.csv')\n"
     ]
    }
   ],
   "source": [
    "#Cargamos el dataset\n",
    "\n",
    "fun = pd.read_csv('data_desanidada.csv')"
   ]
  },
  {
   "cell_type": "code",
   "execution_count": 13,
   "metadata": {},
   "outputs": [
    {
     "data": {
      "text/html": [
       "<div>\n",
       "<style scoped>\n",
       "    .dataframe tbody tr th:only-of-type {\n",
       "        vertical-align: middle;\n",
       "    }\n",
       "\n",
       "    .dataframe tbody tr th {\n",
       "        vertical-align: top;\n",
       "    }\n",
       "\n",
       "    .dataframe thead th {\n",
       "        text-align: right;\n",
       "    }\n",
       "</style>\n",
       "<table border=\"1\" class=\"dataframe\">\n",
       "  <thead>\n",
       "    <tr style=\"text-align: right;\">\n",
       "      <th></th>\n",
       "      <th>budget</th>\n",
       "      <th>id</th>\n",
       "      <th>original_language</th>\n",
       "      <th>overview</th>\n",
       "      <th>popularity</th>\n",
       "      <th>release_date</th>\n",
       "      <th>revenue</th>\n",
       "      <th>runtime</th>\n",
       "      <th>status</th>\n",
       "      <th>tagline</th>\n",
       "      <th>...</th>\n",
       "      <th>8_language_code</th>\n",
       "      <th>8_language</th>\n",
       "      <th>9_language_code</th>\n",
       "      <th>9_language</th>\n",
       "      <th>10_language_code</th>\n",
       "      <th>10_language</th>\n",
       "      <th>11_language_code</th>\n",
       "      <th>11_language</th>\n",
       "      <th>12_language_code</th>\n",
       "      <th>12_language</th>\n",
       "    </tr>\n",
       "  </thead>\n",
       "  <tbody>\n",
       "    <tr>\n",
       "      <th>0</th>\n",
       "      <td>30000000.0</td>\n",
       "      <td>862</td>\n",
       "      <td>en</td>\n",
       "      <td>Led by Woody, Andy's toys live happily in his ...</td>\n",
       "      <td>21.946943</td>\n",
       "      <td>1995-10-30</td>\n",
       "      <td>373554033.0</td>\n",
       "      <td>81.0</td>\n",
       "      <td>Released</td>\n",
       "      <td>NaN</td>\n",
       "      <td>...</td>\n",
       "      <td>NaN</td>\n",
       "      <td>NaN</td>\n",
       "      <td>NaN</td>\n",
       "      <td>NaN</td>\n",
       "      <td>NaN</td>\n",
       "      <td>NaN</td>\n",
       "      <td>NaN</td>\n",
       "      <td>NaN</td>\n",
       "      <td>NaN</td>\n",
       "      <td>NaN</td>\n",
       "    </tr>\n",
       "    <tr>\n",
       "      <th>1</th>\n",
       "      <td>65000000.0</td>\n",
       "      <td>8844</td>\n",
       "      <td>en</td>\n",
       "      <td>When siblings Judy and Peter discover an encha...</td>\n",
       "      <td>17.015539</td>\n",
       "      <td>1995-12-15</td>\n",
       "      <td>262797249.0</td>\n",
       "      <td>104.0</td>\n",
       "      <td>Released</td>\n",
       "      <td>Roll the dice and unleash the excitement!</td>\n",
       "      <td>...</td>\n",
       "      <td>NaN</td>\n",
       "      <td>NaN</td>\n",
       "      <td>NaN</td>\n",
       "      <td>NaN</td>\n",
       "      <td>NaN</td>\n",
       "      <td>NaN</td>\n",
       "      <td>NaN</td>\n",
       "      <td>NaN</td>\n",
       "      <td>NaN</td>\n",
       "      <td>NaN</td>\n",
       "    </tr>\n",
       "    <tr>\n",
       "      <th>2</th>\n",
       "      <td>0.0</td>\n",
       "      <td>15602</td>\n",
       "      <td>en</td>\n",
       "      <td>A family wedding reignites the ancient feud be...</td>\n",
       "      <td>11.712900</td>\n",
       "      <td>1995-12-22</td>\n",
       "      <td>0.0</td>\n",
       "      <td>101.0</td>\n",
       "      <td>Released</td>\n",
       "      <td>Still Yelling. Still Fighting. Still Ready for...</td>\n",
       "      <td>...</td>\n",
       "      <td>NaN</td>\n",
       "      <td>NaN</td>\n",
       "      <td>NaN</td>\n",
       "      <td>NaN</td>\n",
       "      <td>NaN</td>\n",
       "      <td>NaN</td>\n",
       "      <td>NaN</td>\n",
       "      <td>NaN</td>\n",
       "      <td>NaN</td>\n",
       "      <td>NaN</td>\n",
       "    </tr>\n",
       "  </tbody>\n",
       "</table>\n",
       "<p>3 rows × 162 columns</p>\n",
       "</div>"
      ],
      "text/plain": [
       "       budget     id original_language   \n",
       "0  30000000.0    862                en  \\\n",
       "1  65000000.0   8844                en   \n",
       "2         0.0  15602                en   \n",
       "\n",
       "                                            overview  popularity release_date   \n",
       "0  Led by Woody, Andy's toys live happily in his ...   21.946943   1995-10-30  \\\n",
       "1  When siblings Judy and Peter discover an encha...   17.015539   1995-12-15   \n",
       "2  A family wedding reignites the ancient feud be...   11.712900   1995-12-22   \n",
       "\n",
       "       revenue  runtime    status   \n",
       "0  373554033.0     81.0  Released  \\\n",
       "1  262797249.0    104.0  Released   \n",
       "2          0.0    101.0  Released   \n",
       "\n",
       "                                             tagline  ... 8_language_code   \n",
       "0                                                NaN  ...             NaN  \\\n",
       "1          Roll the dice and unleash the excitement!  ...             NaN   \n",
       "2  Still Yelling. Still Fighting. Still Ready for...  ...             NaN   \n",
       "\n",
       "   8_language  9_language_code  9_language  10_language_code 10_language   \n",
       "0         NaN              NaN         NaN               NaN         NaN  \\\n",
       "1         NaN              NaN         NaN               NaN         NaN   \n",
       "2         NaN              NaN         NaN               NaN         NaN   \n",
       "\n",
       "  11_language_code 11_language  12_language_code 12_language  \n",
       "0              NaN         NaN               NaN         NaN  \n",
       "1              NaN         NaN               NaN         NaN  \n",
       "2              NaN         NaN               NaN         NaN  \n",
       "\n",
       "[3 rows x 162 columns]"
      ]
     },
     "execution_count": 13,
     "metadata": {},
     "output_type": "execute_result"
    }
   ],
   "source": [
    "fun.head(3)"
   ]
  },
  {
   "attachments": {},
   "cell_type": "markdown",
   "metadata": {},
   "source": []
  },
  {
   "cell_type": "code",
   "execution_count": 10,
   "metadata": {},
   "outputs": [],
   "source": [
    "#Colocamos en una variable las columnas que necesitamos para implementar las funciones y luego hacemos nuestro dataset igual a esas columnas nada mas\n",
    "\n",
    "columnas_deseadas = ['budget', 'id', 'release_date', 'revenue', 'title', 'release_year',\n",
    "       'return', 'collection_name', 'pc_name_0', 'pc_name_1', 'pc_name_2',\n",
    "       'pc_name_3', 'pc_name_4', 'pc_name_5', 'pc_name_6', 'pc_name_7',\n",
    "       'pc_name_8', 'pc_name_9', 'pc_name_10', 'pc_name_11', 'pc_name_12',\n",
    "       'pc_name_13', 'pc_name_14', 'pc_name_15', 'pc_name_16', 'pc_name_17',\n",
    "       'pc_name_18', 'pc_name_19', 'pc_name_20', 'pc_name_21', 'pc_name_22',\n",
    "       'pc_name_23', 'pc_name_24', 'pc_name_25', 'pco_name_0', 'pco_name_1',\n",
    "       'pco_name_2', 'pco_name_3', 'pco_name_4', 'pco_name_5', 'pco_name_6',\n",
    "       'pco_name_7', 'pco_name_8', 'pco_name_9', 'pco_name_10', 'pco_name_11',\n",
    "       'pco_name_12', 'pco_name_13', 'pco_name_14', 'pco_name_15',\n",
    "       'pco_name_16', 'pco_name_17', 'pco_name_18', 'pco_name_19',\n",
    "       'pco_name_20', 'pco_name_21', 'pco_name_22', 'pco_name_23',\n",
    "       'pco_name_24']\n",
    "fun = fun[columnas_deseadas]"
   ]
  },
  {
   "cell_type": "code",
   "execution_count": 6,
   "metadata": {},
   "outputs": [
    {
     "data": {
      "text/plain": [
       "'es_ES'"
      ]
     },
     "execution_count": 6,
     "metadata": {},
     "output_type": "execute_result"
    }
   ],
   "source": [
    "#Establecemos la configuración regional (locale) del sistema para el formato de fecha y hora en español\n",
    "\n",
    "locale.setlocale(locale.LC_TIME, 'es_ES')"
   ]
  },
  {
   "cell_type": "code",
   "execution_count": 7,
   "metadata": {},
   "outputs": [],
   "source": [
    "#Convertimos la columna 'release_date' a un objeto de fecha y hora\n",
    "\n",
    "fun['release_date'] = pd.to_datetime(fun['release_date'], format='%Y-%m-%d')\n",
    "\n",
    "#Creamos una nueva columna dia con el nombre del dia de la semana en se se estreño cada pelicula\n",
    "\n",
    "fun['dia'] = fun['release_date'].dt.strftime('%A')\n",
    "\n",
    "#Creamos una nueva columna 'release_month' con el nombre del mes\n",
    "\n",
    "fun['mes'] = fun['release_date'].dt.strftime('%B')\n",
    "\n",
    "#Creamos una nueva columna 'release_day' con el nombre del día de la semana\n",
    "fun['anio'] = fun['release_date'].dt.year\n"
   ]
  },
  {
   "cell_type": "code",
   "execution_count": 8,
   "metadata": {},
   "outputs": [
    {
     "data": {
      "text/plain": [
       "30"
      ]
     },
     "execution_count": 8,
     "metadata": {},
     "output_type": "execute_result"
    }
   ],
   "source": [
    "#Revisamos cuantas filas duplicadas hay en el dataset\n",
    "fun.duplicated().sum()"
   ]
  },
  {
   "cell_type": "code",
   "execution_count": 9,
   "metadata": {},
   "outputs": [],
   "source": [
    "#Eliminas las filas duplicadas\n",
    "fun.drop_duplicates(inplace=True)"
   ]
  },
  {
   "cell_type": "code",
   "execution_count": 11,
   "metadata": {},
   "outputs": [],
   "source": [
    "#Exportamos como csv para posterior uso en las funciones comentadas\n",
    "fun.to_csv('data_funciones.csv', index=False)"
   ]
  }
 ],
 "metadata": {
  "kernelspec": {
   "display_name": "Python 3",
   "language": "python",
   "name": "python3"
  },
  "language_info": {
   "codemirror_mode": {
    "name": "ipython",
    "version": 3
   },
   "file_extension": ".py",
   "mimetype": "text/x-python",
   "name": "python",
   "nbconvert_exporter": "python",
   "pygments_lexer": "ipython3",
   "version": "3.11.2"
  },
  "orig_nbformat": 4
 },
 "nbformat": 4,
 "nbformat_minor": 2
}
